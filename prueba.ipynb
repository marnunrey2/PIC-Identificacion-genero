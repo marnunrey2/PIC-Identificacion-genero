{
 "cells": [
  {
   "cell_type": "code",
   "execution_count": null,
   "metadata": {},
   "outputs": [],
   "source": [
    "import cv2\n",
    "import numpy as np"
   ]
  },
  {
   "cell_type": "code",
   "execution_count": 30,
   "metadata": {},
   "outputs": [],
   "source": [
    "def preprocess_image(image):\n",
    "    gray = cv2.cvtColor(image, cv2.COLOR_BGR2GRAY)\n",
    "    blur = cv2.GaussianBlur(gray, (5, 5), 0)\n",
    "    _, thresh = cv2.threshold(blur, 0, 255, cv2.THRESH_BINARY_INV + cv2.THRESH_OTSU)\n",
    "    return thresh\n",
    "\n",
    "def extract_letters(image):\n",
    "    contours, _ = cv2.findContours(image.copy(), cv2.RETR_EXTERNAL, cv2.CHAIN_APPROX_SIMPLE)\n",
    "    letter_regions = []\n",
    "    for contour in contours:\n",
    "        (x, y, w, h) = cv2.boundingRect(contour)\n",
    "        letter_regions.append((x, y, w, h))\n",
    "    return letter_regions\n",
    "\n",
    "def global_thresholding(i):\n",
    "    # Load the image\n",
    "    image_read = cv2.imread(f'./letters/letter_{i}.png', cv2.IMREAD_GRAYSCALE)\n",
    "\n",
    "    # Apply global thresholding\n",
    "    _, binary_image = cv2.threshold(image_read, 127, 255, cv2.THRESH_BINARY)\n",
    "\n",
    "    # Invert the binary image if necessary\n",
    "    # Depending on the input image, you may need to invert the binary image\n",
    "    # to ensure that the text appears as white on a black background\n",
    "    binary_image = cv2.bitwise_not(binary_image)\n",
    "\n",
    "    # Save the preprocessed image\n",
    "    cv2.imwrite(f'./letters/letter_binarized_{i}.png', binary_image)\n",
    "\n",
    "\n",
    "def main():\n",
    "    # Load the image\n",
    "    image = cv2.imread('F1.jpg')\n",
    "\n",
    "    # Preprocess the image\n",
    "    preprocessed_image = preprocess_image(image)\n",
    "\n",
    "    # Extract individual letters\n",
    "    letter_regions = extract_letters(preprocessed_image)\n",
    "\n",
    "    # Iterate through each letter region\n",
    "    for i, (x, y, w, h) in enumerate(letter_regions):\n",
    "        letter_image = image[y:y+h, x:x+w]  # Crop the letter region\n",
    "        cv2.imwrite(f'./letters/letter_{i}.png', letter_image)\n",
    "        global_thresholding(i)\n"
   ]
  },
  {
   "cell_type": "code",
   "execution_count": null,
   "metadata": {},
   "outputs": [],
   "source": [
    "main()"
   ]
  }
 ],
 "metadata": {
  "language_info": {
   "name": "python"
  }
 },
 "nbformat": 4,
 "nbformat_minor": 2
}
